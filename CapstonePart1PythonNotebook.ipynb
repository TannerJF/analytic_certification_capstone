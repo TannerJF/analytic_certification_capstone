{
 "cells": [
  {
   "cell_type": "markdown",
   "id": "6f8d5093",
   "metadata": {},
   "source": [
    "# Capstone Project Part 1: Python"
   ]
  },
  {
   "cell_type": "markdown",
   "id": "b26b33da",
   "metadata": {},
   "source": [
    "## Imports and Setup"
   ]
  },
  {
   "cell_type": "code",
   "execution_count": 1,
   "id": "8911cc70",
   "metadata": {},
   "outputs": [],
   "source": [
    "import pandas as pd\n",
    "import seaborn as sbn\n",
    "import matplotlib.pyplot as plt\n",
    "import ast\n",
    "\n",
    "movie_df=pd.read_csv(\"DS1_C7_Part1_Data Analysis Using Python_Dataset.csv\")"
   ]
  },
  {
   "cell_type": "markdown",
   "id": "1e14f1f4",
   "metadata": {},
   "source": [
    "#### Defined Functions"
   ]
  },
  {
   "cell_type": "code",
   "execution_count": 2,
   "id": "c1c6c46e",
   "metadata": {},
   "outputs": [],
   "source": [
    "#the function is used multiple times throughout the project to extract clean displays of titles and associated genres#\n",
    "\n",
    "def extract_title_genres_df(df):\n",
    "    extracted_genre_dict={}\n",
    "    for index,row in df.iterrows(): #allows specificity in rows when iterating over data set#\n",
    "        extract_genre_list=[] \n",
    "        for genre in ast.literal_eval(row[\"genres\"]): #allows evaluation of the dictionaries within column lists#\n",
    "            extract_genre_list.append(genre[\"name\"]) #feeds values into above list to use for title key later#\n",
    "            extracted_genre_dict[row[\"title\"]]=\", \".join(extract_genre_list) #creates string of list and pairs it to title#\n",
    "    extracted_df=pd.DataFrame(extracted_genre_dict.items(),columns=[\"Movie Title\",\"Genre\"]) #creates df out of dictionary#\n",
    "    return extracted_df"
   ]
  },
  {
   "cell_type": "markdown",
   "id": "39f74537",
   "metadata": {},
   "source": [
    "### Task 1 - Top 50 Movies"
   ]
  },
  {
   "cell_type": "code",
   "execution_count": 3,
   "id": "0e6d80b8",
   "metadata": {},
   "outputs": [
    {
     "name": "stdout",
     "output_type": "stream",
     "text": [
      "The dataframe has 4803 rows, and 20 columns. \n",
      "\n",
      "The first 50 movies in the dataframe are as follows:\n"
     ]
    },
    {
     "data": {
      "text/html": [
       "<div>\n",
       "<style scoped>\n",
       "    .dataframe tbody tr th:only-of-type {\n",
       "        vertical-align: middle;\n",
       "    }\n",
       "\n",
       "    .dataframe tbody tr th {\n",
       "        vertical-align: top;\n",
       "    }\n",
       "\n",
       "    .dataframe thead th {\n",
       "        text-align: right;\n",
       "    }\n",
       "</style>\n",
       "<table border=\"1\" class=\"dataframe\">\n",
       "  <thead>\n",
       "    <tr style=\"text-align: right;\">\n",
       "      <th></th>\n",
       "      <th>Movie Title</th>\n",
       "      <th>Genre</th>\n",
       "    </tr>\n",
       "  </thead>\n",
       "  <tbody>\n",
       "    <tr>\n",
       "      <th>0</th>\n",
       "      <td>Avatar</td>\n",
       "      <td>Action, Adventure, Fantasy, Science Fiction</td>\n",
       "    </tr>\n",
       "    <tr>\n",
       "      <th>1</th>\n",
       "      <td>Pirates of the Caribbean: At World's End</td>\n",
       "      <td>Adventure, Fantasy, Action</td>\n",
       "    </tr>\n",
       "    <tr>\n",
       "      <th>2</th>\n",
       "      <td>Spectre</td>\n",
       "      <td>Action, Adventure, Crime</td>\n",
       "    </tr>\n",
       "    <tr>\n",
       "      <th>3</th>\n",
       "      <td>The Dark Knight Rises</td>\n",
       "      <td>Action, Crime, Drama, Thriller</td>\n",
       "    </tr>\n",
       "    <tr>\n",
       "      <th>4</th>\n",
       "      <td>John Carter</td>\n",
       "      <td>Action, Adventure, Science Fiction</td>\n",
       "    </tr>\n",
       "    <tr>\n",
       "      <th>5</th>\n",
       "      <td>Spider-Man 3</td>\n",
       "      <td>Fantasy, Action, Adventure</td>\n",
       "    </tr>\n",
       "    <tr>\n",
       "      <th>6</th>\n",
       "      <td>Tangled</td>\n",
       "      <td>Animation, Family</td>\n",
       "    </tr>\n",
       "    <tr>\n",
       "      <th>7</th>\n",
       "      <td>Avengers: Age of Ultron</td>\n",
       "      <td>Action, Adventure, Science Fiction</td>\n",
       "    </tr>\n",
       "    <tr>\n",
       "      <th>8</th>\n",
       "      <td>Harry Potter and the Half-Blood Prince</td>\n",
       "      <td>Adventure, Fantasy, Family</td>\n",
       "    </tr>\n",
       "    <tr>\n",
       "      <th>9</th>\n",
       "      <td>Batman v Superman: Dawn of Justice</td>\n",
       "      <td>Action, Adventure, Fantasy</td>\n",
       "    </tr>\n",
       "    <tr>\n",
       "      <th>10</th>\n",
       "      <td>Superman Returns</td>\n",
       "      <td>Adventure, Fantasy, Action, Science Fiction</td>\n",
       "    </tr>\n",
       "    <tr>\n",
       "      <th>11</th>\n",
       "      <td>Quantum of Solace</td>\n",
       "      <td>Adventure, Action, Thriller, Crime</td>\n",
       "    </tr>\n",
       "    <tr>\n",
       "      <th>12</th>\n",
       "      <td>Pirates of the Caribbean: Dead Man's Chest</td>\n",
       "      <td>Adventure, Fantasy, Action</td>\n",
       "    </tr>\n",
       "    <tr>\n",
       "      <th>13</th>\n",
       "      <td>The Lone Ranger</td>\n",
       "      <td>Action, Adventure, Western</td>\n",
       "    </tr>\n",
       "    <tr>\n",
       "      <th>14</th>\n",
       "      <td>Man of Steel</td>\n",
       "      <td>Action, Adventure, Fantasy, Science Fiction</td>\n",
       "    </tr>\n",
       "    <tr>\n",
       "      <th>15</th>\n",
       "      <td>The Chronicles of Narnia: Prince Caspian</td>\n",
       "      <td>Adventure, Family, Fantasy</td>\n",
       "    </tr>\n",
       "    <tr>\n",
       "      <th>16</th>\n",
       "      <td>The Avengers</td>\n",
       "      <td>Science Fiction, Action, Adventure</td>\n",
       "    </tr>\n",
       "    <tr>\n",
       "      <th>17</th>\n",
       "      <td>Pirates of the Caribbean: On Stranger Tides</td>\n",
       "      <td>Adventure, Action, Fantasy</td>\n",
       "    </tr>\n",
       "    <tr>\n",
       "      <th>18</th>\n",
       "      <td>Men in Black 3</td>\n",
       "      <td>Action, Comedy, Science Fiction</td>\n",
       "    </tr>\n",
       "    <tr>\n",
       "      <th>19</th>\n",
       "      <td>The Hobbit: The Battle of the Five Armies</td>\n",
       "      <td>Action, Adventure, Fantasy</td>\n",
       "    </tr>\n",
       "    <tr>\n",
       "      <th>20</th>\n",
       "      <td>The Amazing Spider-Man</td>\n",
       "      <td>Action, Adventure, Fantasy</td>\n",
       "    </tr>\n",
       "    <tr>\n",
       "      <th>21</th>\n",
       "      <td>Robin Hood</td>\n",
       "      <td>Action, Adventure</td>\n",
       "    </tr>\n",
       "    <tr>\n",
       "      <th>22</th>\n",
       "      <td>The Hobbit: The Desolation of Smaug</td>\n",
       "      <td>Adventure, Fantasy</td>\n",
       "    </tr>\n",
       "    <tr>\n",
       "      <th>23</th>\n",
       "      <td>The Golden Compass</td>\n",
       "      <td>Adventure, Fantasy</td>\n",
       "    </tr>\n",
       "    <tr>\n",
       "      <th>24</th>\n",
       "      <td>King Kong</td>\n",
       "      <td>Adventure, Drama, Action</td>\n",
       "    </tr>\n",
       "    <tr>\n",
       "      <th>25</th>\n",
       "      <td>Titanic</td>\n",
       "      <td>Drama, Romance, Thriller</td>\n",
       "    </tr>\n",
       "    <tr>\n",
       "      <th>26</th>\n",
       "      <td>Captain America: Civil War</td>\n",
       "      <td>Adventure, Action, Science Fiction</td>\n",
       "    </tr>\n",
       "    <tr>\n",
       "      <th>27</th>\n",
       "      <td>Battleship</td>\n",
       "      <td>Thriller, Action, Adventure, Science Fiction</td>\n",
       "    </tr>\n",
       "    <tr>\n",
       "      <th>28</th>\n",
       "      <td>Jurassic World</td>\n",
       "      <td>Action, Adventure, Science Fiction, Thriller</td>\n",
       "    </tr>\n",
       "    <tr>\n",
       "      <th>29</th>\n",
       "      <td>Skyfall</td>\n",
       "      <td>Action, Adventure, Thriller</td>\n",
       "    </tr>\n",
       "    <tr>\n",
       "      <th>30</th>\n",
       "      <td>Spider-Man 2</td>\n",
       "      <td>Action, Adventure, Fantasy</td>\n",
       "    </tr>\n",
       "    <tr>\n",
       "      <th>31</th>\n",
       "      <td>Iron Man 3</td>\n",
       "      <td>Action, Adventure, Science Fiction</td>\n",
       "    </tr>\n",
       "    <tr>\n",
       "      <th>32</th>\n",
       "      <td>Alice in Wonderland</td>\n",
       "      <td>Family, Fantasy, Adventure</td>\n",
       "    </tr>\n",
       "    <tr>\n",
       "      <th>33</th>\n",
       "      <td>X-Men: The Last Stand</td>\n",
       "      <td>Adventure, Action, Science Fiction, Thriller</td>\n",
       "    </tr>\n",
       "    <tr>\n",
       "      <th>34</th>\n",
       "      <td>Monsters University</td>\n",
       "      <td>Animation, Family</td>\n",
       "    </tr>\n",
       "    <tr>\n",
       "      <th>35</th>\n",
       "      <td>Transformers: Revenge of the Fallen</td>\n",
       "      <td>Science Fiction, Action, Adventure</td>\n",
       "    </tr>\n",
       "    <tr>\n",
       "      <th>36</th>\n",
       "      <td>Transformers: Age of Extinction</td>\n",
       "      <td>Science Fiction, Action, Adventure</td>\n",
       "    </tr>\n",
       "    <tr>\n",
       "      <th>37</th>\n",
       "      <td>Oz: The Great and Powerful</td>\n",
       "      <td>Fantasy, Adventure, Family</td>\n",
       "    </tr>\n",
       "    <tr>\n",
       "      <th>38</th>\n",
       "      <td>The Amazing Spider-Man 2</td>\n",
       "      <td>Action, Adventure, Fantasy</td>\n",
       "    </tr>\n",
       "    <tr>\n",
       "      <th>39</th>\n",
       "      <td>TRON: Legacy</td>\n",
       "      <td>Adventure, Action, Science Fiction</td>\n",
       "    </tr>\n",
       "    <tr>\n",
       "      <th>40</th>\n",
       "      <td>Cars 2</td>\n",
       "      <td>Animation, Family, Adventure, Comedy</td>\n",
       "    </tr>\n",
       "    <tr>\n",
       "      <th>41</th>\n",
       "      <td>Green Lantern</td>\n",
       "      <td>Adventure, Action, Thriller, Science Fiction</td>\n",
       "    </tr>\n",
       "    <tr>\n",
       "      <th>42</th>\n",
       "      <td>Toy Story 3</td>\n",
       "      <td>Animation, Family, Comedy</td>\n",
       "    </tr>\n",
       "    <tr>\n",
       "      <th>43</th>\n",
       "      <td>Terminator Salvation</td>\n",
       "      <td>Action, Science Fiction, Thriller</td>\n",
       "    </tr>\n",
       "    <tr>\n",
       "      <th>44</th>\n",
       "      <td>Furious 7</td>\n",
       "      <td>Action</td>\n",
       "    </tr>\n",
       "    <tr>\n",
       "      <th>45</th>\n",
       "      <td>World War Z</td>\n",
       "      <td>Action, Drama, Horror, Science Fiction, Thriller</td>\n",
       "    </tr>\n",
       "    <tr>\n",
       "      <th>46</th>\n",
       "      <td>X-Men: Days of Future Past</td>\n",
       "      <td>Action, Adventure, Fantasy, Science Fiction</td>\n",
       "    </tr>\n",
       "    <tr>\n",
       "      <th>47</th>\n",
       "      <td>Star Trek Into Darkness</td>\n",
       "      <td>Action, Adventure, Science Fiction</td>\n",
       "    </tr>\n",
       "    <tr>\n",
       "      <th>48</th>\n",
       "      <td>Jack the Giant Slayer</td>\n",
       "      <td>Action, Family, Fantasy</td>\n",
       "    </tr>\n",
       "    <tr>\n",
       "      <th>49</th>\n",
       "      <td>The Great Gatsby</td>\n",
       "      <td>Drama, Romance</td>\n",
       "    </tr>\n",
       "  </tbody>\n",
       "</table>\n",
       "</div>"
      ],
      "text/plain": [
       "                                    Movie Title  \\\n",
       "0                                        Avatar   \n",
       "1      Pirates of the Caribbean: At World's End   \n",
       "2                                       Spectre   \n",
       "3                         The Dark Knight Rises   \n",
       "4                                   John Carter   \n",
       "5                                  Spider-Man 3   \n",
       "6                                       Tangled   \n",
       "7                       Avengers: Age of Ultron   \n",
       "8        Harry Potter and the Half-Blood Prince   \n",
       "9            Batman v Superman: Dawn of Justice   \n",
       "10                             Superman Returns   \n",
       "11                            Quantum of Solace   \n",
       "12   Pirates of the Caribbean: Dead Man's Chest   \n",
       "13                              The Lone Ranger   \n",
       "14                                 Man of Steel   \n",
       "15     The Chronicles of Narnia: Prince Caspian   \n",
       "16                                 The Avengers   \n",
       "17  Pirates of the Caribbean: On Stranger Tides   \n",
       "18                               Men in Black 3   \n",
       "19    The Hobbit: The Battle of the Five Armies   \n",
       "20                       The Amazing Spider-Man   \n",
       "21                                   Robin Hood   \n",
       "22          The Hobbit: The Desolation of Smaug   \n",
       "23                           The Golden Compass   \n",
       "24                                    King Kong   \n",
       "25                                      Titanic   \n",
       "26                   Captain America: Civil War   \n",
       "27                                   Battleship   \n",
       "28                               Jurassic World   \n",
       "29                                      Skyfall   \n",
       "30                                 Spider-Man 2   \n",
       "31                                   Iron Man 3   \n",
       "32                          Alice in Wonderland   \n",
       "33                        X-Men: The Last Stand   \n",
       "34                          Monsters University   \n",
       "35          Transformers: Revenge of the Fallen   \n",
       "36              Transformers: Age of Extinction   \n",
       "37                   Oz: The Great and Powerful   \n",
       "38                     The Amazing Spider-Man 2   \n",
       "39                                 TRON: Legacy   \n",
       "40                                       Cars 2   \n",
       "41                                Green Lantern   \n",
       "42                                  Toy Story 3   \n",
       "43                         Terminator Salvation   \n",
       "44                                    Furious 7   \n",
       "45                                  World War Z   \n",
       "46                   X-Men: Days of Future Past   \n",
       "47                      Star Trek Into Darkness   \n",
       "48                        Jack the Giant Slayer   \n",
       "49                             The Great Gatsby   \n",
       "\n",
       "                                               Genre  \n",
       "0        Action, Adventure, Fantasy, Science Fiction  \n",
       "1                         Adventure, Fantasy, Action  \n",
       "2                           Action, Adventure, Crime  \n",
       "3                     Action, Crime, Drama, Thriller  \n",
       "4                 Action, Adventure, Science Fiction  \n",
       "5                         Fantasy, Action, Adventure  \n",
       "6                                  Animation, Family  \n",
       "7                 Action, Adventure, Science Fiction  \n",
       "8                         Adventure, Fantasy, Family  \n",
       "9                         Action, Adventure, Fantasy  \n",
       "10       Adventure, Fantasy, Action, Science Fiction  \n",
       "11                Adventure, Action, Thriller, Crime  \n",
       "12                        Adventure, Fantasy, Action  \n",
       "13                        Action, Adventure, Western  \n",
       "14       Action, Adventure, Fantasy, Science Fiction  \n",
       "15                        Adventure, Family, Fantasy  \n",
       "16                Science Fiction, Action, Adventure  \n",
       "17                        Adventure, Action, Fantasy  \n",
       "18                   Action, Comedy, Science Fiction  \n",
       "19                        Action, Adventure, Fantasy  \n",
       "20                        Action, Adventure, Fantasy  \n",
       "21                                 Action, Adventure  \n",
       "22                                Adventure, Fantasy  \n",
       "23                                Adventure, Fantasy  \n",
       "24                          Adventure, Drama, Action  \n",
       "25                          Drama, Romance, Thriller  \n",
       "26                Adventure, Action, Science Fiction  \n",
       "27      Thriller, Action, Adventure, Science Fiction  \n",
       "28      Action, Adventure, Science Fiction, Thriller  \n",
       "29                       Action, Adventure, Thriller  \n",
       "30                        Action, Adventure, Fantasy  \n",
       "31                Action, Adventure, Science Fiction  \n",
       "32                        Family, Fantasy, Adventure  \n",
       "33      Adventure, Action, Science Fiction, Thriller  \n",
       "34                                 Animation, Family  \n",
       "35                Science Fiction, Action, Adventure  \n",
       "36                Science Fiction, Action, Adventure  \n",
       "37                        Fantasy, Adventure, Family  \n",
       "38                        Action, Adventure, Fantasy  \n",
       "39                Adventure, Action, Science Fiction  \n",
       "40              Animation, Family, Adventure, Comedy  \n",
       "41      Adventure, Action, Thriller, Science Fiction  \n",
       "42                         Animation, Family, Comedy  \n",
       "43                 Action, Science Fiction, Thriller  \n",
       "44                                            Action  \n",
       "45  Action, Drama, Horror, Science Fiction, Thriller  \n",
       "46       Action, Adventure, Fantasy, Science Fiction  \n",
       "47                Action, Adventure, Science Fiction  \n",
       "48                           Action, Family, Fantasy  \n",
       "49                                    Drama, Romance  "
      ]
     },
     "execution_count": 3,
     "metadata": {},
     "output_type": "execute_result"
    }
   ],
   "source": [
    "top_50_movies=movie_df.loc[:,[\"genres\",\"title\"]].head(50)\n",
    "\n",
    "print(\"The dataframe has\",movie_df.shape[0],\"rows, and\",movie_df.shape[1],\"columns.\",\"\\n\")\n",
    "\n",
    "print(\"The first 50 movies in the dataframe are as follows:\")\n",
    "extract_title_genres_df(top_50_movies)"
   ]
  },
  {
   "cell_type": "markdown",
   "id": "8eb2f23f",
   "metadata": {},
   "source": [
    "### Task 2 - Null Values and Imputation"
   ]
  },
  {
   "cell_type": "markdown",
   "id": "ef452a43",
   "metadata": {},
   "source": [
    "#### Task 2: Initial Null Value Display"
   ]
  },
  {
   "cell_type": "code",
   "execution_count": 4,
   "id": "1a23be3a",
   "metadata": {},
   "outputs": [
    {
     "data": {
      "text/plain": [
       "budget                     0\n",
       "genres                     0\n",
       "homepage                3091\n",
       "id                         0\n",
       "keywords                   0\n",
       "original_language          0\n",
       "original_title             0\n",
       "overview                   3\n",
       "popularity                 0\n",
       "production_companies       0\n",
       "production_countries       0\n",
       "release_date               1\n",
       "revenue                    0\n",
       "runtime                    2\n",
       "spoken_languages           0\n",
       "status                     0\n",
       "tagline                  844\n",
       "title                      0\n",
       "vote_average               0\n",
       "vote_count                 0\n",
       "dtype: int64"
      ]
     },
     "execution_count": 4,
     "metadata": {},
     "output_type": "execute_result"
    }
   ],
   "source": [
    "movie_df.isnull().sum()"
   ]
  },
  {
   "cell_type": "markdown",
   "id": "c792316b",
   "metadata": {},
   "source": [
    "#### Task 2: Imputation Coding"
   ]
  },
  {
   "cell_type": "code",
   "execution_count": 5,
   "id": "84e6f1e0",
   "metadata": {},
   "outputs": [
    {
     "name": "stdout",
     "output_type": "stream",
     "text": [
      "Post-imputation results in 4803 rows, and 20 columns. \n",
      "\n"
     ]
    }
   ],
   "source": [
    "#predominantly, it is the 'homepage' and 'tagline' columns that have the missing values at 3091 and 844, respectively#\n",
    "#as these and the 3 from 'overview' are not necessary for our analysis, a placeholder of 'N/A' has been inserted#\n",
    "#for the 1 missing data point in 'release_date' the internet was consulted for imputation#\n",
    "#for the 2 missing data points in 'runtime' the average of the dataset was used#\n",
    "\n",
    "#movie without release date: America is Still the Place#\n",
    "movie_df.loc[movie_df[\"release_date\"].isnull(),\"release_date\"]=\"01-01-2003\"\n",
    "\n",
    "#movies without run time: \"Chiamatemi Francesco - Il Papa della gente\" & \"To Be Frank, Sinatra at 100\"#\n",
    "round(movie_df[\"runtime\"].mean()) #107#\n",
    "movie_df.loc[movie_df[\"runtime\"].isnull(),\"runtime\"]=107\n",
    "\n",
    "#remaining lines for all imputation of 'N/A' insertion#\n",
    "movie_df.loc[movie_df[\"tagline\"].isnull(),\"tagline\"]=\"N/A\"\n",
    "movie_df.loc[movie_df[\"homepage\"].isnull(),\"homepage\"]=\"N/A\"\n",
    "movie_df.loc[movie_df[\"overview\"].isnull(),\"overview\"]=\"N/A\"\n",
    "\n",
    "print(\"Post-imputation results in\",movie_df.shape[0],\"rows, and\",movie_df.shape[1],\"columns.\",\"\\n\")"
   ]
  },
  {
   "cell_type": "markdown",
   "id": "069dd6e9",
   "metadata": {},
   "source": [
    "#### Task 2: Post-Imputation Null Value Display"
   ]
  },
  {
   "cell_type": "code",
   "execution_count": 6,
   "id": "8edc0d25",
   "metadata": {},
   "outputs": [
    {
     "data": {
      "text/plain": [
       "budget                  0\n",
       "genres                  0\n",
       "homepage                0\n",
       "id                      0\n",
       "keywords                0\n",
       "original_language       0\n",
       "original_title          0\n",
       "overview                0\n",
       "popularity              0\n",
       "production_companies    0\n",
       "production_countries    0\n",
       "release_date            0\n",
       "revenue                 0\n",
       "runtime                 0\n",
       "spoken_languages        0\n",
       "status                  0\n",
       "tagline                 0\n",
       "title                   0\n",
       "vote_average            0\n",
       "vote_count              0\n",
       "dtype: int64"
      ]
     },
     "execution_count": 6,
     "metadata": {},
     "output_type": "execute_result"
    }
   ],
   "source": [
    "movie_df.isnull().sum()"
   ]
  },
  {
   "cell_type": "markdown",
   "id": "fc4e9d91",
   "metadata": {},
   "source": [
    "### Task 3 - Categories with Budget over $220k"
   ]
  },
  {
   "cell_type": "code",
   "execution_count": 7,
   "id": "e5b500f5",
   "metadata": {},
   "outputs": [
    {
     "name": "stdout",
     "output_type": "stream",
     "text": [
      "The genres that have at least one movie with a budget over $220k are Crime, History, Music, Action, War, Western, Family, Drama, Foreign, Thriller, Fantasy, Horror, Adventure, Animation, Comedy, Mystery, TV Movie, Romance, Documentary, Science Fiction\n"
     ]
    }
   ],
   "source": [
    "#Regarding both tasks 3 & 4:#\n",
    "#both ask for 'categories' which is not a column present in the data set#\n",
    "# for this code line, 'genres' is used to explore the question#\n",
    "\n",
    "budget_over_220k=movie_df.loc[movie_df[\"budget\"]>220000]\n",
    "\n",
    "genre_set=set()\n",
    "\n",
    "for items in budget_over_220k[\"genres\"]:\n",
    "    for genre in ast.literal_eval(items):\n",
    "        genre_set.add(genre[\"name\"])\n",
    "        \n",
    "budget_220k_genre_names=\", \".join(genre_set)\n",
    "print(\"The genres that have at least one movie with a budget over $220k are\",budget_220k_genre_names)"
   ]
  },
  {
   "cell_type": "code",
   "execution_count": 8,
   "id": "7839c33f",
   "metadata": {},
   "outputs": [
    {
     "data": {
      "text/html": [
       "<div>\n",
       "<style scoped>\n",
       "    .dataframe tbody tr th:only-of-type {\n",
       "        vertical-align: middle;\n",
       "    }\n",
       "\n",
       "    .dataframe tbody tr th {\n",
       "        vertical-align: top;\n",
       "    }\n",
       "\n",
       "    .dataframe thead th {\n",
       "        text-align: right;\n",
       "    }\n",
       "</style>\n",
       "<table border=\"1\" class=\"dataframe\">\n",
       "  <thead>\n",
       "    <tr style=\"text-align: right;\">\n",
       "      <th></th>\n",
       "      <th>Movie Title</th>\n",
       "      <th>Genre</th>\n",
       "    </tr>\n",
       "  </thead>\n",
       "  <tbody>\n",
       "    <tr>\n",
       "      <th>0</th>\n",
       "      <td>Avatar</td>\n",
       "      <td>Action, Adventure, Fantasy, Science Fiction</td>\n",
       "    </tr>\n",
       "    <tr>\n",
       "      <th>1</th>\n",
       "      <td>Pirates of the Caribbean: At World's End</td>\n",
       "      <td>Adventure, Fantasy, Action</td>\n",
       "    </tr>\n",
       "    <tr>\n",
       "      <th>2</th>\n",
       "      <td>Spectre</td>\n",
       "      <td>Action, Adventure, Crime</td>\n",
       "    </tr>\n",
       "    <tr>\n",
       "      <th>3</th>\n",
       "      <td>The Dark Knight Rises</td>\n",
       "      <td>Action, Crime, Drama, Thriller</td>\n",
       "    </tr>\n",
       "    <tr>\n",
       "      <th>4</th>\n",
       "      <td>John Carter</td>\n",
       "      <td>Action, Adventure, Science Fiction</td>\n",
       "    </tr>\n",
       "    <tr>\n",
       "      <th>...</th>\n",
       "      <td>...</td>\n",
       "      <td>...</td>\n",
       "    </tr>\n",
       "    <tr>\n",
       "      <th>3674</th>\n",
       "      <td>Malevolence</td>\n",
       "      <td>Crime, Horror, Thriller</td>\n",
       "    </tr>\n",
       "    <tr>\n",
       "      <th>3675</th>\n",
       "      <td>Super Hybrid</td>\n",
       "      <td>Horror</td>\n",
       "    </tr>\n",
       "    <tr>\n",
       "      <th>3676</th>\n",
       "      <td>The Birth of a Nation</td>\n",
       "      <td>Drama</td>\n",
       "    </tr>\n",
       "    <tr>\n",
       "      <th>3677</th>\n",
       "      <td>The Signal</td>\n",
       "      <td>Thriller, Science Fiction</td>\n",
       "    </tr>\n",
       "    <tr>\n",
       "      <th>3678</th>\n",
       "      <td>Mutual Appreciation</td>\n",
       "      <td>Drama, Comedy</td>\n",
       "    </tr>\n",
       "  </tbody>\n",
       "</table>\n",
       "<p>3679 rows × 2 columns</p>\n",
       "</div>"
      ],
      "text/plain": [
       "                                   Movie Title  \\\n",
       "0                                       Avatar   \n",
       "1     Pirates of the Caribbean: At World's End   \n",
       "2                                      Spectre   \n",
       "3                        The Dark Knight Rises   \n",
       "4                                  John Carter   \n",
       "...                                        ...   \n",
       "3674                               Malevolence   \n",
       "3675                              Super Hybrid   \n",
       "3676                     The Birth of a Nation   \n",
       "3677                                The Signal   \n",
       "3678                       Mutual Appreciation   \n",
       "\n",
       "                                            Genre  \n",
       "0     Action, Adventure, Fantasy, Science Fiction  \n",
       "1                      Adventure, Fantasy, Action  \n",
       "2                        Action, Adventure, Crime  \n",
       "3                  Action, Crime, Drama, Thriller  \n",
       "4              Action, Adventure, Science Fiction  \n",
       "...                                           ...  \n",
       "3674                      Crime, Horror, Thriller  \n",
       "3675                                       Horror  \n",
       "3676                                        Drama  \n",
       "3677                    Thriller, Science Fiction  \n",
       "3678                                Drama, Comedy  \n",
       "\n",
       "[3679 rows x 2 columns]"
      ]
     },
     "execution_count": 8,
     "metadata": {},
     "output_type": "execute_result"
    }
   ],
   "source": [
    "#here the associated movie title and its various genres are displayed#\n",
    "\n",
    "extract_title_genres_df(budget_over_220k)"
   ]
  },
  {
   "cell_type": "markdown",
   "id": "a92691b1",
   "metadata": {},
   "source": [
    "### Task 4 - Categories with Revenue over $961m"
   ]
  },
  {
   "cell_type": "code",
   "execution_count": 9,
   "id": "6787dba6",
   "metadata": {},
   "outputs": [
    {
     "name": "stdout",
     "output_type": "stream",
     "text": [
      "The genres that have at least one movie with a revenue over $961 million are Fantasy, Crime, Family, Drama, Romance, Action, Thriller, Adventure, Science Fiction, Animation, Comedy\n"
     ]
    }
   ],
   "source": [
    "revenue_over_961m=movie_df.loc[movie_df[\"revenue\"]>961000000]\n",
    "\n",
    "revenue_961m_genres=set()\n",
    "for items in revenue_over_961m[\"genres\"]:\n",
    "    for genre in ast.literal_eval(items):\n",
    "        revenue_961m_genres.add(genre[\"name\"])\n",
    "\n",
    "revenue_961m_genre_names=\", \".join(list(revenue_961m_genres))\n",
    "        \n",
    "print(\"The genres that have at least one movie with a revenue over $961 million are\",revenue_961m_genre_names)"
   ]
  },
  {
   "cell_type": "code",
   "execution_count": 10,
   "id": "70a52ac7",
   "metadata": {},
   "outputs": [
    {
     "data": {
      "text/html": [
       "<div>\n",
       "<style scoped>\n",
       "    .dataframe tbody tr th:only-of-type {\n",
       "        vertical-align: middle;\n",
       "    }\n",
       "\n",
       "    .dataframe tbody tr th {\n",
       "        vertical-align: top;\n",
       "    }\n",
       "\n",
       "    .dataframe thead th {\n",
       "        text-align: right;\n",
       "    }\n",
       "</style>\n",
       "<table border=\"1\" class=\"dataframe\">\n",
       "  <thead>\n",
       "    <tr style=\"text-align: right;\">\n",
       "      <th></th>\n",
       "      <th>Movie Title</th>\n",
       "      <th>Genre</th>\n",
       "    </tr>\n",
       "  </thead>\n",
       "  <tbody>\n",
       "    <tr>\n",
       "      <th>0</th>\n",
       "      <td>Avatar</td>\n",
       "      <td>Action, Adventure, Fantasy, Science Fiction</td>\n",
       "    </tr>\n",
       "    <tr>\n",
       "      <th>1</th>\n",
       "      <td>The Dark Knight Rises</td>\n",
       "      <td>Action, Crime, Drama, Thriller</td>\n",
       "    </tr>\n",
       "    <tr>\n",
       "      <th>2</th>\n",
       "      <td>Avengers: Age of Ultron</td>\n",
       "      <td>Action, Adventure, Science Fiction</td>\n",
       "    </tr>\n",
       "    <tr>\n",
       "      <th>3</th>\n",
       "      <td>Pirates of the Caribbean: Dead Man's Chest</td>\n",
       "      <td>Adventure, Fantasy, Action</td>\n",
       "    </tr>\n",
       "    <tr>\n",
       "      <th>4</th>\n",
       "      <td>The Avengers</td>\n",
       "      <td>Science Fiction, Action, Adventure</td>\n",
       "    </tr>\n",
       "    <tr>\n",
       "      <th>5</th>\n",
       "      <td>Pirates of the Caribbean: On Stranger Tides</td>\n",
       "      <td>Adventure, Action, Fantasy</td>\n",
       "    </tr>\n",
       "    <tr>\n",
       "      <th>6</th>\n",
       "      <td>Titanic</td>\n",
       "      <td>Drama, Romance, Thriller</td>\n",
       "    </tr>\n",
       "    <tr>\n",
       "      <th>7</th>\n",
       "      <td>Captain America: Civil War</td>\n",
       "      <td>Adventure, Action, Science Fiction</td>\n",
       "    </tr>\n",
       "    <tr>\n",
       "      <th>8</th>\n",
       "      <td>Jurassic World</td>\n",
       "      <td>Action, Adventure, Science Fiction, Thriller</td>\n",
       "    </tr>\n",
       "    <tr>\n",
       "      <th>9</th>\n",
       "      <td>Skyfall</td>\n",
       "      <td>Action, Adventure, Thriller</td>\n",
       "    </tr>\n",
       "    <tr>\n",
       "      <th>10</th>\n",
       "      <td>Iron Man 3</td>\n",
       "      <td>Action, Adventure, Science Fiction</td>\n",
       "    </tr>\n",
       "    <tr>\n",
       "      <th>11</th>\n",
       "      <td>Alice in Wonderland</td>\n",
       "      <td>Family, Fantasy, Adventure</td>\n",
       "    </tr>\n",
       "    <tr>\n",
       "      <th>12</th>\n",
       "      <td>Transformers: Age of Extinction</td>\n",
       "      <td>Science Fiction, Action, Adventure</td>\n",
       "    </tr>\n",
       "    <tr>\n",
       "      <th>13</th>\n",
       "      <td>Toy Story 3</td>\n",
       "      <td>Animation, Family, Comedy</td>\n",
       "    </tr>\n",
       "    <tr>\n",
       "      <th>14</th>\n",
       "      <td>Furious 7</td>\n",
       "      <td>Action</td>\n",
       "    </tr>\n",
       "    <tr>\n",
       "      <th>15</th>\n",
       "      <td>Transformers: Dark of the Moon</td>\n",
       "      <td>Action, Science Fiction, Adventure</td>\n",
       "    </tr>\n",
       "    <tr>\n",
       "      <th>16</th>\n",
       "      <td>The Dark Knight</td>\n",
       "      <td>Drama, Action, Crime, Thriller</td>\n",
       "    </tr>\n",
       "    <tr>\n",
       "      <th>17</th>\n",
       "      <td>The Jungle Book</td>\n",
       "      <td>Family, Adventure, Drama, Fantasy</td>\n",
       "    </tr>\n",
       "    <tr>\n",
       "      <th>18</th>\n",
       "      <td>The Hobbit: An Unexpected Journey</td>\n",
       "      <td>Adventure, Fantasy, Action</td>\n",
       "    </tr>\n",
       "    <tr>\n",
       "      <th>19</th>\n",
       "      <td>Frozen</td>\n",
       "      <td>Animation, Adventure, Family</td>\n",
       "    </tr>\n",
       "    <tr>\n",
       "      <th>20</th>\n",
       "      <td>Harry Potter and the Philosopher's Stone</td>\n",
       "      <td>Adventure, Fantasy, Family</td>\n",
       "    </tr>\n",
       "    <tr>\n",
       "      <th>21</th>\n",
       "      <td>The Lord of the Rings: The Return of the King</td>\n",
       "      <td>Adventure, Fantasy, Action</td>\n",
       "    </tr>\n",
       "    <tr>\n",
       "      <th>22</th>\n",
       "      <td>Despicable Me 2</td>\n",
       "      <td>Animation, Comedy, Family</td>\n",
       "    </tr>\n",
       "    <tr>\n",
       "      <th>23</th>\n",
       "      <td>Minions</td>\n",
       "      <td>Family, Animation, Adventure, Comedy</td>\n",
       "    </tr>\n",
       "  </tbody>\n",
       "</table>\n",
       "</div>"
      ],
      "text/plain": [
       "                                      Movie Title  \\\n",
       "0                                          Avatar   \n",
       "1                           The Dark Knight Rises   \n",
       "2                         Avengers: Age of Ultron   \n",
       "3      Pirates of the Caribbean: Dead Man's Chest   \n",
       "4                                    The Avengers   \n",
       "5     Pirates of the Caribbean: On Stranger Tides   \n",
       "6                                         Titanic   \n",
       "7                      Captain America: Civil War   \n",
       "8                                  Jurassic World   \n",
       "9                                         Skyfall   \n",
       "10                                     Iron Man 3   \n",
       "11                            Alice in Wonderland   \n",
       "12                Transformers: Age of Extinction   \n",
       "13                                    Toy Story 3   \n",
       "14                                      Furious 7   \n",
       "15                 Transformers: Dark of the Moon   \n",
       "16                                The Dark Knight   \n",
       "17                                The Jungle Book   \n",
       "18              The Hobbit: An Unexpected Journey   \n",
       "19                                         Frozen   \n",
       "20       Harry Potter and the Philosopher's Stone   \n",
       "21  The Lord of the Rings: The Return of the King   \n",
       "22                                Despicable Me 2   \n",
       "23                                        Minions   \n",
       "\n",
       "                                           Genre  \n",
       "0    Action, Adventure, Fantasy, Science Fiction  \n",
       "1                 Action, Crime, Drama, Thriller  \n",
       "2             Action, Adventure, Science Fiction  \n",
       "3                     Adventure, Fantasy, Action  \n",
       "4             Science Fiction, Action, Adventure  \n",
       "5                     Adventure, Action, Fantasy  \n",
       "6                       Drama, Romance, Thriller  \n",
       "7             Adventure, Action, Science Fiction  \n",
       "8   Action, Adventure, Science Fiction, Thriller  \n",
       "9                    Action, Adventure, Thriller  \n",
       "10            Action, Adventure, Science Fiction  \n",
       "11                    Family, Fantasy, Adventure  \n",
       "12            Science Fiction, Action, Adventure  \n",
       "13                     Animation, Family, Comedy  \n",
       "14                                        Action  \n",
       "15            Action, Science Fiction, Adventure  \n",
       "16                Drama, Action, Crime, Thriller  \n",
       "17             Family, Adventure, Drama, Fantasy  \n",
       "18                    Adventure, Fantasy, Action  \n",
       "19                  Animation, Adventure, Family  \n",
       "20                    Adventure, Fantasy, Family  \n",
       "21                    Adventure, Fantasy, Action  \n",
       "22                     Animation, Comedy, Family  \n",
       "23          Family, Animation, Adventure, Comedy  "
      ]
     },
     "execution_count": 10,
     "metadata": {},
     "output_type": "execute_result"
    }
   ],
   "source": [
    "extract_title_genres_df(revenue_over_961m)\n",
    "\n",
    "#for tasks 3 & 4, using movie titles and their genres seems to be much more informative#"
   ]
  },
  {
   "cell_type": "markdown",
   "id": "a44771e8",
   "metadata": {},
   "source": [
    "### Sub-Task Analysis: Sorting Most Popular Genres"
   ]
  },
  {
   "cell_type": "code",
   "execution_count": 118,
   "id": "c74e55bb",
   "metadata": {},
   "outputs": [
    {
     "data": {
      "text/html": [
       "<div>\n",
       "<style scoped>\n",
       "    .dataframe tbody tr th:only-of-type {\n",
       "        vertical-align: middle;\n",
       "    }\n",
       "\n",
       "    .dataframe tbody tr th {\n",
       "        vertical-align: top;\n",
       "    }\n",
       "\n",
       "    .dataframe thead th {\n",
       "        text-align: right;\n",
       "    }\n",
       "</style>\n",
       "<table border=\"1\" class=\"dataframe\">\n",
       "  <thead>\n",
       "    <tr style=\"text-align: right;\">\n",
       "      <th></th>\n",
       "      <th>Genre</th>\n",
       "      <th>Number in Top Movies</th>\n",
       "    </tr>\n",
       "  </thead>\n",
       "  <tbody>\n",
       "    <tr>\n",
       "      <th>0</th>\n",
       "      <td>Adventure</td>\n",
       "      <td>18</td>\n",
       "    </tr>\n",
       "    <tr>\n",
       "      <th>1</th>\n",
       "      <td>Action</td>\n",
       "      <td>16</td>\n",
       "    </tr>\n",
       "    <tr>\n",
       "      <th>2</th>\n",
       "      <td>Fantasy</td>\n",
       "      <td>8</td>\n",
       "    </tr>\n",
       "    <tr>\n",
       "      <th>3</th>\n",
       "      <td>Science Fiction</td>\n",
       "      <td>8</td>\n",
       "    </tr>\n",
       "    <tr>\n",
       "      <th>4</th>\n",
       "      <td>Family</td>\n",
       "      <td>7</td>\n",
       "    </tr>\n",
       "    <tr>\n",
       "      <th>5</th>\n",
       "      <td>Thriller</td>\n",
       "      <td>5</td>\n",
       "    </tr>\n",
       "    <tr>\n",
       "      <th>6</th>\n",
       "      <td>Drama</td>\n",
       "      <td>4</td>\n",
       "    </tr>\n",
       "    <tr>\n",
       "      <th>7</th>\n",
       "      <td>Animation</td>\n",
       "      <td>4</td>\n",
       "    </tr>\n",
       "    <tr>\n",
       "      <th>8</th>\n",
       "      <td>Comedy</td>\n",
       "      <td>3</td>\n",
       "    </tr>\n",
       "    <tr>\n",
       "      <th>9</th>\n",
       "      <td>Crime</td>\n",
       "      <td>2</td>\n",
       "    </tr>\n",
       "    <tr>\n",
       "      <th>10</th>\n",
       "      <td>Romance</td>\n",
       "      <td>1</td>\n",
       "    </tr>\n",
       "  </tbody>\n",
       "</table>\n",
       "</div>"
      ],
      "text/plain": [
       "              Genre  Number in Top Movies\n",
       "0         Adventure                    18\n",
       "1            Action                    16\n",
       "2           Fantasy                     8\n",
       "3   Science Fiction                     8\n",
       "4            Family                     7\n",
       "5          Thriller                     5\n",
       "6             Drama                     4\n",
       "7         Animation                     4\n",
       "8            Comedy                     3\n",
       "9             Crime                     2\n",
       "10          Romance                     1"
      ]
     },
     "execution_count": 118,
     "metadata": {},
     "output_type": "execute_result"
    }
   ],
   "source": [
    "#function called outside of defined function to allow further work with dataframe#\n",
    "genre_count_dict={}\n",
    "for items in revenue_over_961m[\"genres\"]:\n",
    "    for genre in ast.literal_eval(items):\n",
    "        genre_count_dict[genre['name']]=genre_count_dict.get(genre['name'],0)+1\n",
    "genre_count_df=pd.DataFrame(genre_count_dict.items(),columns=[\"Genre\",\"Number in Top Movies\"])\n",
    "sorted_genre_count_top_revenue_df=genre_count_df.sort_values(\n",
    "    by=\"Number in Top Movies\",ascending=False,ignore_index=True)\n",
    "sorted_genre_count_top_revenue_df\n",
    "\n",
    "#of the top 23 moives with revenue over $961, the most popular genre is Adventure#\n",
    "#after Adventure, Action is at second place#\n",
    "#Followed by Fantasy and Science Fiction tied for third#"
   ]
  },
  {
   "cell_type": "markdown",
   "id": "6fb234f9",
   "metadata": {},
   "source": [
    "### Task 5 - Filtering Out Budget and Revenue with 0"
   ]
  },
  {
   "cell_type": "code",
   "execution_count": 13,
   "id": "27b3aaa1",
   "metadata": {},
   "outputs": [
    {
     "data": {
      "text/plain": [
       "(3229, 20)"
      ]
     },
     "execution_count": 13,
     "metadata": {},
     "output_type": "execute_result"
    }
   ],
   "source": [
    "#The dataframe began with 4803 rows#\n",
    "#removing rows with 0 in either 'budget' or 'revenue' results in 3229 rows in the new dataframe#\n",
    "\n",
    "movie_df.drop(movie_df[(movie_df[\"budget\"]==0) | (movie_df[\"revenue\"]==0)].index,inplace=True)\n",
    "movie_df.shape"
   ]
  },
  {
   "cell_type": "markdown",
   "id": "efe6fd3c",
   "metadata": {},
   "source": [
    "### Task 6 - Top 10 Revenues and Bottom 10 Budgets"
   ]
  },
  {
   "cell_type": "code",
   "execution_count": 14,
   "id": "a345c7e5",
   "metadata": {},
   "outputs": [
    {
     "name": "stdout",
     "output_type": "stream",
     "text": [
      "The top 10 movie revenues:\n",
      "0                          Avatar\n",
      "25                        Titanic\n",
      "16                   The Avengers\n",
      "28                 Jurassic World\n",
      "44                      Furious 7\n",
      "7         Avengers: Age of Ultron\n",
      "124                        Frozen\n",
      "31                     Iron Man 3\n",
      "546                       Minions\n",
      "26     Captain America: Civil War\n",
      "Name: title, dtype: object \n",
      "\n",
      "The bottom 10 movie budgets:\n",
      "1771        The 51st State\n",
      "1912        Angela's Ashes\n",
      "2933              F.I.S.T.\n",
      "3131     Of Horses and Men\n",
      "3137             Nurse 3-D\n",
      "4608          The Prophecy\n",
      "3372          Split Second\n",
      "3419          Bran Nue Dae\n",
      "3611    A Farewell to Arms\n",
      "4238          Modern Times\n",
      "Name: title, dtype: object\n"
     ]
    }
   ],
   "source": [
    "top_10_highest_revenue=movie_df.sort_values(by='revenue',ascending=False).head(10)\n",
    "\n",
    "print(f\"The top 10 movie revenues:\\n{top_10_highest_revenue['title']}\",\"\\n\")\n",
    "\n",
    "top_10_lowest_budgets=movie_df.sort_values(by='budget',ascending=False).tail(10)\n",
    "\n",
    "print(f\"The bottom 10 movie budgets:\\n{top_10_lowest_budgets['title']}\")"
   ]
  },
  {
   "cell_type": "code",
   "execution_count": 15,
   "id": "eabe7f4b",
   "metadata": {},
   "outputs": [
    {
     "data": {
      "text/plain": [
       "[]"
      ]
     },
     "execution_count": 15,
     "metadata": {},
     "output_type": "execute_result"
    }
   ],
   "source": [
    "top_10_revenue_movies=list(top_10_highest_revenue[\"original_title\"])\n",
    "bottom_10_budget_movies=list(top_10_lowest_budgets[\"original_title\"])\n",
    "\n",
    "best_ratio_movies=[]\n",
    "for movie in top_10_revenue_movies:\n",
    "    if movie in bottom_10_budget_movies:\n",
    "        best_ratio_movies.insert(movie)\n",
    "best_ratio_movies\n",
    "\n",
    "#There are no common movies between the lowest budget and highest revenue#"
   ]
  },
  {
   "cell_type": "markdown",
   "id": "d4d4cc54",
   "metadata": {},
   "source": [
    "### Task 7 - Correlation Heatmap"
   ]
  },
  {
   "cell_type": "code",
   "execution_count": 25,
   "id": "93be4023",
   "metadata": {},
   "outputs": [
    {
     "data": {
      "image/png": "[encoded data removed]",
      "text/plain": [
       "<Figure size 640x480 with 2 Axes>"
      ]
     },
     "metadata": {},
     "output_type": "display_data"
    }
   ],
   "source": [
    "movie_correlations=movie_df[[\"popularity\",\"budget\",\"revenue\",\"runtime\"]].corr()\n",
    "movie_heatmap=sbn.heatmap(movie_correlations,annot=True)\n",
    "\n",
    "movie_heatmap.set_title(\"Movie Detail Correlation Heatmap\")\n",
    "plt.show()"
   ]
  },
  {
   "cell_type": "markdown",
   "id": "e1f4fe33",
   "metadata": {},
   "source": [
    "#### Task 7: Scatter Plot Correlation"
   ]
  },
  {
   "cell_type": "code",
   "execution_count": 17,
   "id": "363377d0",
   "metadata": {},
   "outputs": [
    {
     "data": {
      "text/plain": [
       "<AxesSubplot:xlabel='budget', ylabel='popularity'>"
      ]
     },
     "execution_count": 17,
     "metadata": {},
     "output_type": "execute_result"
    },
    {
     "data": {
      "image/png": "[encoded data removed]",
      "text/plain": [
       "<Figure size 640x480 with 1 Axes>"
      ]
     },
     "metadata": {},
     "output_type": "display_data"
    }
   ],
   "source": [
    "sbn.regplot(x=\"budget\",\n",
    "          y=\"popularity\",\n",
    "          ci= None,\n",
    "          data=movie_df,\n",
    "          marker=\"x\",\n",
    "          scatter_kws={\"color\": \"blue\"}, \n",
    "          line_kws={\"color\": \"orange\"})\n",
    "\n",
    "#The 'budget' and 'popularity' of a movie seem to be somewhat moderately related#\n",
    "#Though a movie may have a large budget, it does not necessarily mean it will appeal to all audiences#\n",
    "#Budget may help make a movie more appealing by providing special effects and procuring quality cast and writing staff#\n",
    "#If the budget is not used to analyze what is currently in vogue, the film may still flop#\n",
    "#Final analysis: Though money can help acquire what is useful for quality, it must be used wisely to help ensure success#"
   ]
  },
  {
   "cell_type": "markdown",
   "id": "f2dc62a2",
   "metadata": {},
   "source": [
    "### Task 8 - Production Company Counts"
   ]
  },
  {
   "cell_type": "code",
   "execution_count": 18,
   "id": "7ab9fdce",
   "metadata": {},
   "outputs": [
    {
     "name": "stdout",
     "output_type": "stream",
     "text": [
      "There are now 3564 unique rows for the data.\n",
      "                          Production Company  Movies Produced\n",
      "0                    Ingenious Film Partners               24\n",
      "1     Twentieth Century Fox Film Corporation              201\n",
      "2                         Dune Entertainment               54\n",
      "3                   Lightstorm Entertainment                5\n",
      "4                       Walt Disney Pictures               96\n",
      "...                                      ...              ...\n",
      "3559                             Tiny Ponies                1\n",
      "3560                         Low Spark Films                1\n",
      "3561                       Signal Film Group                1\n",
      "3562                   Dreamland Productions                1\n",
      "3563                           Daiei Studios                1\n",
      "\n",
      "[3564 rows x 2 columns]\n"
     ]
    }
   ],
   "source": [
    "prod_companies_dict={}\n",
    "\n",
    "#ast.literal_eval() allows Python to look into each item iterated on as the individual type it is instead of just one list#\n",
    "#it lets us pull each \"name\" key from the dictionaries even though they are bound in a list#\n",
    "for items in movie_df[\"production_companies\"]:\n",
    "    for company in ast.literal_eval(items):\n",
    "        prod_companies_dict[company['name']]=prod_companies_dict.get(company['name'],0)+1\n",
    "        #adds running count for each individual company name in the column#\n",
    "\n",
    "production_companies_df=pd.DataFrame(prod_companies_dict.items(),columns=[\"Production Company\",\"Movies Produced\"])\n",
    "\n",
    "verify_length_of_production_companies=production_companies_df[\"Production Company\"].unique().shape[0]\n",
    "print(f\"There are now {verify_length_of_production_companies} unique rows for the data.\")\n",
    "print(production_companies_df)"
   ]
  },
  {
   "cell_type": "markdown",
   "id": "a2757aae",
   "metadata": {},
   "source": [
    "### Task 9 - Top 25 Production Companies"
   ]
  },
  {
   "cell_type": "code",
   "execution_count": 19,
   "id": "fd006e1b",
   "metadata": {},
   "outputs": [
    {
     "name": "stdout",
     "output_type": "stream",
     "text": [
      "The top 25 production companies and how many movies they have produced:\n",
      "                           Production Company  Movies Produced\n",
      "11                              Warner Bros.              280\n",
      "52                        Universal Pictures              273\n",
      "38                        Paramount Pictures              245\n",
      "1     Twentieth Century Fox Film Corporation              201\n",
      "7                          Columbia Pictures              167\n",
      "46                           New Line Cinema              142\n",
      "54                          Relativity Media              100\n",
      "4                       Walt Disney Pictures               96\n",
      "193                      Touchstone Pictures               93\n",
      "49                 Metro-Goldwyn-Mayer (MGM)               92\n",
      "250            Columbia Pictures Corporation               86\n",
      "112                Village Roadshow Pictures               73\n",
      "384                            Miramax Films               67\n",
      "80                            DreamWorks SKG               67\n",
      "522                           United Artists               64\n",
      "289                      Regency Enterprises               59\n",
      "2                         Dune Entertainment               54\n",
      "319                         TriStar Pictures               50\n",
      "179                                Lionsgate               49\n",
      "363                                   Canal+               48\n",
      "260                     Summit Entertainment               48\n",
      "1535                Fox Searchlight Pictures               47\n",
      "40                      Amblin Entertainment               47\n",
      "192                        Fox 2000 Pictures               43\n",
      "478                      Working Title Films               43\n"
     ]
    }
   ],
   "source": [
    "#using the dataframe produced in task 8, the data simply needs to be sorted and displayed to the limit requested#\n",
    "\n",
    "top_25_production_companies=production_companies_df.sort_values(by=\"Movies Produced\",ascending=False).head(25)\n",
    "\n",
    "print(\"The top 25 production companies and how many movies they have produced:\\n\",top_25_production_companies)"
   ]
  },
  {
   "cell_type": "markdown",
   "id": "b25cf580",
   "metadata": {},
   "source": [
    "### Task 10 - Central Tendencies and Outliers"
   ]
  },
  {
   "cell_type": "markdown",
   "id": "7843fec6",
   "metadata": {},
   "source": [
    "#### Task 10: Budget"
   ]
  },
  {
   "cell_type": "code",
   "execution_count": 20,
   "id": "72136bb2",
   "metadata": {},
   "outputs": [
    {
     "name": "stdout",
     "output_type": "stream",
     "text": [
      "The average budget of the top 500 movies: $103193736\n",
      "The median budget of the top 500 movies: $95000000\n",
      "The most common budget of the top 500 movies: $150000000\n"
     ]
    },
    {
     "data": {
      "image/png": "[encoded data removed]",
      "text/plain": [
       "<Figure size 640x480 with 1 Axes>"
      ]
     },
     "metadata": {},
     "output_type": "display_data"
    }
   ],
   "source": [
    "top_500_by_revenue=movie_df.sort_values(by=\"revenue\",ascending=False).head(500)\n",
    "\n",
    "top_500_mean_budget=top_500_by_revenue[\"budget\"].mean()\n",
    "top_500_median_budget=top_500_by_revenue[\"budget\"].median()\n",
    "#mode is in form of list to not return the 0 from single mode#\n",
    "top_500_mode_budget=list(top_500_by_revenue[\"budget\"].mode())\n",
    "\n",
    "print(f\"The average budget of the top 500 movies: ${round(top_500_mean_budget)}\")\n",
    "print(f\"The median budget of the top 500 movies: ${round(top_500_median_budget)}\")\n",
    "print(f\"The most common budget of the top 500 movies: ${top_500_mode_budget[0]}\") #[0] used to clean up brackets from lsit#\n",
    "\n",
    "top_500_by_revenue.boxplot(column=[\"budget\"]).set_ylabel(\"$ per 100 Million\")\n",
    "plt.show()"
   ]
  },
  {
   "cell_type": "markdown",
   "id": "4fc9c2cb",
   "metadata": {},
   "source": [
    "#### Task 10: Revenue"
   ]
  },
  {
   "cell_type": "code",
   "execution_count": 21,
   "id": "91afdbe3",
   "metadata": {},
   "outputs": [
    {
     "name": "stdout",
     "output_type": "stream",
     "text": [
      "The average revenue of the top 500 movies: $458577595\n",
      "The median revenue of the top 500 movies: $363001570\n",
      "The most common revenue of the top 500 movies:\n",
      "0       217764291\n",
      "1       218340595\n",
      "2       218613188\n",
      "3       219076518\n",
      "4       219103655\n",
      "          ...    \n",
      "495    1506249360\n",
      "496    1513528810\n",
      "497    1519557910\n",
      "498    1845034188\n",
      "499    2787965087\n",
      "Name: revenue, Length: 500, dtype: int64\n"
     ]
    },
    {
     "data": {
      "image/png": "[encoded data removed]",
      "text/plain": [
       "<Figure size 640x480 with 1 Axes>"
      ]
     },
     "metadata": {},
     "output_type": "display_data"
    }
   ],
   "source": [
    "top_500_mean_revenue=top_500_by_revenue[\"revenue\"].mean()\n",
    "top_500_median_revenue=top_500_by_revenue[\"revenue\"].median()\n",
    "top_500_mode_revenue=top_500_by_revenue[\"revenue\"].mode()\n",
    "\n",
    "print(f\"The average revenue of the top 500 movies: ${round(top_500_mean_revenue)}\")\n",
    "print(f\"The median revenue of the top 500 movies: ${round(top_500_median_revenue)}\")\n",
    "#multiple modes are displayed for \"revenue\", because each revenue line is unique#\n",
    "print(f\"The most common revenue of the top 500 movies:\\n{top_500_mode_revenue}\")\n",
    "\n",
    "top_500_by_revenue.boxplot(column=[\"revenue\"]).set_ylabel(\"$ per Billion\")\n",
    "plt.show()"
   ]
  },
  {
   "cell_type": "markdown",
   "id": "4a9d4432",
   "metadata": {},
   "source": [
    "#### Task 10: Runtime"
   ]
  },
  {
   "cell_type": "code",
   "execution_count": 22,
   "id": "f0adaf98",
   "metadata": {},
   "outputs": [
    {
     "name": "stdout",
     "output_type": "stream",
     "text": [
      "The average runtime of the top 500 movies: 119 minutes\n",
      "The median runtime of the top 500 movies: 116 minutes\n",
      "The most common runtime of the top 500 movies: 115.0 minutes\n"
     ]
    },
    {
     "data": {
      "image/png": "[encoded data removed]",
      "text/plain": [
       "<Figure size 640x480 with 1 Axes>"
      ]
     },
     "metadata": {},
     "output_type": "display_data"
    }
   ],
   "source": [
    "top_500_mean_runtime=top_500_by_revenue[\"runtime\"].mean()\n",
    "top_500_median_runtime=top_500_by_revenue[\"runtime\"].median()\n",
    "top_500_mode_runtime=list(top_500_by_revenue[\"runtime\"].mode())\n",
    "\n",
    "print(f\"The average runtime of the top 500 movies: {round(top_500_mean_runtime)} minutes\")\n",
    "print(f\"The median runtime of the top 500 movies: {round(top_500_median_runtime)} minutes\")\n",
    "print(f\"The most common runtime of the top 500 movies: {top_500_mode_runtime[0]} minutes\")\n",
    "\n",
    "top_500_by_revenue.boxplot(column=[\"runtime\"]).set_ylabel(\"Time in Minutes\")\n",
    "plt.show()\n",
    "\n",
    "#regarding outliers: I do not believe that for this particular set of tasks removing outliers is a valuable step#\n",
    "#If future decisions were to be made with the data, reassesment of the outlier skew would be revisited#"
   ]
  },
  {
   "cell_type": "markdown",
   "id": "2f5bf254",
   "metadata": {},
   "source": [
    "### Task 11 - Top 500 Movies & Above Average Runtime"
   ]
  },
  {
   "cell_type": "code",
   "execution_count": 23,
   "id": "c89c6e82",
   "metadata": {},
   "outputs": [
    {
     "name": "stdout",
     "output_type": "stream",
     "text": [
      "Movies from the 500 with the highest revenue with above average runtimes:\n",
      "                                               title  runtime\n",
      "3813                             Gone with the Wind    238.0\n",
      "329   The Lord of the Rings: The Return of the King    201.0\n",
      "1818                               Schindler's List    195.0\n",
      "25                                          Titanic    194.0\n",
      "690                                  The Green Mile    189.0\n",
      "...                                             ...      ...\n",
      "2668                                   Pretty Woman    119.0\n",
      "245                             Tomorrow Never Dies    119.0\n",
      "2667                               Fatal Attraction    119.0\n",
      "249                                       Insurgent    119.0\n",
      "1987                           Howl's Moving Castle    119.0\n",
      "\n",
      "[234 rows x 2 columns]\n"
     ]
    }
   ],
   "source": [
    "###########\n",
    "# TASK 11 #\n",
    "###########\n",
    "\n",
    "top_500_above_average_runtime=top_500_by_revenue.loc[top_500_by_revenue[\"runtime\"]>top_500_mean_runtime]\n",
    "\n",
    "sorted_above_average_runtime=top_500_above_average_runtime[[\"title\",\"runtime\"]].sort_values(by=\"runtime\",ascending=False)\n",
    "\n",
    "print(\"Movies from the 500 with the highest revenue with above average runtimes:\\n\",sorted_above_average_runtime)"
   ]
  },
  {
   "cell_type": "code",
   "execution_count": null,
   "id": "035d712e",
   "metadata": {},
   "outputs": [],
   "source": []
  },
  {
   "cell_type": "code",
   "execution_count": null,
   "id": "f76bf6a3",
   "metadata": {},
   "outputs": [],
   "source": []
  }
 ],
 "metadata": {
  "kernelspec": {
   "display_name": "Python 3 (ipykernel)",
   "language": "python",
   "name": "python3"
  },
  "language_info": {
   "codemirror_mode": {
    "name": "ipython",
    "version": 3
   },
   "file_extension": ".py",
   "mimetype": "text/x-python",
   "name": "python",
   "nbconvert_exporter": "python",
   "pygments_lexer": "ipython3",
   "version": "3.9.13"
  }
 },
 "nbformat": 4,
 "nbformat_minor": 5
}
